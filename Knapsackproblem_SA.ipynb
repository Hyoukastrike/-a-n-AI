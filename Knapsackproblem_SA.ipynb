{
  "nbformat": 4,
  "nbformat_minor": 0,
  "metadata": {
    "colab": {
      "provenance": []
    },
    "kernelspec": {
      "name": "python3",
      "display_name": "Python 3"
    },
    "language_info": {
      "name": "python"
    }
  },
  "cells": [
    {
      "cell_type": "code",
      "execution_count": null,
      "metadata": {
        "colab": {
          "base_uri": "https://localhost:8080/"
        },
        "id": "DmKgvYaXUdLv",
        "outputId": "8dd642dd-953c-48a3-83f0-cd3bfa666a69"
      },
      "outputs": [
        {
          "output_type": "stream",
          "name": "stdout",
          "text": [
            "Nhập số lượng đồ vật: 8\n",
            "Nhập khối lượng của đồ vật 1: 2\n",
            "Nhập khối lượng của đồ vật 2: 3\n",
            "Nhập khối lượng của đồ vật 3: 5\n",
            "Nhập khối lượng của đồ vật 4: 7\n",
            "Nhập khối lượng của đồ vật 5: 1\n",
            "Nhập khối lượng của đồ vật 6: 4\n",
            "Nhập khối lượng của đồ vật 7: 6\n",
            "Nhập khối lượng của đồ vật 8: 8\n",
            "Nhập giá trị của đồ vật 1: 10\n",
            "Nhập giá trị của đồ vật 2: 12\n",
            "Nhập giá trị của đồ vật 3: 18\n",
            "Nhập giá trị của đồ vật 4: 25\n",
            "Nhập giá trị của đồ vật 5: 6\n",
            "Nhập giá trị của đồ vật 6: 10\n",
            "Nhập giá trị của đồ vật 7: 16\n",
            "Nhập giá trị của đồ vật 8: 22\n",
            "Nhập tải trọng tối đa của túi: 12\n",
            "<--Đồ vật được chọn-->\n",
            "Đồ vật 1 - Khối lượng: 2, Giá trị: 10\n",
            "Đồ vật 2 - Khối lượng: 3, Giá trị: 12\n",
            "Đồ vật 4 - Khối lượng: 7, Giá trị: 25\n",
            "-->Tổng khối lượng chứa được là : 12\n",
            "-->Giá trị tối đa của đồ vật được bỏ vào túi là : 47\n"
          ]
        }
      ],
      "source": [
        "import numpy as np\n",
        "import math\n",
        "import random\n",
        "\n",
        "def knapsack_simulated_annealing(weights, values, max_weight, temperature, cooling_rate, iterations):\n",
        "    num_items = len(weights)\n",
        "    current_solution = [0] * num_items\n",
        "    best_solution = current_solution.copy()\n",
        "    current_weight = 0\n",
        "    best_weight = 0\n",
        "    current_value = 0\n",
        "    best_value = 0\n",
        "\n",
        "    def evaluate_solution(solution):\n",
        "        total_weight = np.dot(solution, weights)\n",
        "        total_value = np.dot(solution, values)\n",
        "        return total_weight, total_value\n",
        "\n",
        "    def acceptance_probability(old_weight, new_weight, temperature):\n",
        "        if new_weight <= max_weight:\n",
        "            return 1.0\n",
        "        return math.exp((old_weight - new_weight) / temperature)\n",
        "\n",
        "    for iteration in range(iterations):\n",
        "        temperature *= 1 - cooling_rate\n",
        "        neighbor_solution = current_solution.copy()\n",
        "\n",
        "        # Flip a random bit\n",
        "        random_item = random.randint(0, num_items - 1)\n",
        "        neighbor_solution[random_item] = 1 - neighbor_solution[random_item]\n",
        "\n",
        "        neighbor_weight, neighbor_value = evaluate_solution(neighbor_solution)\n",
        "        current_weight, current_value = evaluate_solution(current_solution)\n",
        "\n",
        "        if acceptance_probability(current_weight, neighbor_weight, temperature) > random.random():\n",
        "            current_solution = neighbor_solution.copy()\n",
        "            current_weight = neighbor_weight\n",
        "            current_value = neighbor_value\n",
        "\n",
        "        if current_weight <= max_weight and current_value > best_value:\n",
        "            best_solution = current_solution.copy()\n",
        "            best_weight = current_weight\n",
        "            best_value = current_value\n",
        "\n",
        "    return best_solution, best_weight, best_value\n",
        "\n",
        "# Nhập số lượng đồ vật, khối lượng đồ vật và tải trọng tối đa của túi từ người dùng\n",
        "num_items = int(input(\"Nhập số lượng đồ vật: \"))\n",
        "weights = [int(input(f\"Nhập khối lượng của đồ vật {i + 1}: \")) for i in range(num_items)]\n",
        "values = [int(input(f\"Nhập giá trị của đồ vật {i + 1}: \")) for i in range(num_items)]\n",
        "max_weight = int(input(\"Nhập tải trọng tối đa của túi: \"))\n",
        "\n",
        "# Thiết lập tham số cho giải thuật Simulated Annealing\n",
        "initial_temperature = 1000\n",
        "cooling_rate = 0.03\n",
        "iterations = 1000\n",
        "\n",
        "# Gọi hàm giải bài toán cái túi\n",
        "best_solution, best_weight, best_value = knapsack_simulated_annealing(weights, values, max_weight, initial_temperature, cooling_rate, iterations)\n",
        "\n",
        "# In kết quả\n",
        "print(\"<--Đồ vật được chọn-->\")\n",
        "for i in range(num_items):\n",
        "    if best_solution[i] == 1:\n",
        "        print(f\"Đồ vật {i + 1} - Khối lượng: {weights[i]}, Giá trị: {values[i]}\")\n",
        "\n",
        "print(f\"-->Tổng khối lượng chứa được là : {best_weight}\")\n",
        "print(f\"-->Giá trị tối đa của đồ vật được bỏ vào túi là : {best_value}\")\n"
      ]
    },
    {
      "cell_type": "markdown",
      "source": [
        "Bài toán cái túi (knapsack problem) yêu cầu xác định cách chọn một tập hợp các đồ vật sao cho tổng khối lượng của chúng không vượt quá giới hạn của cái túi và tổng giá trị là lớn nhất có thể. Do đó, giá trị của đồ vật là một phần quan trọng của bài toán, vì nó đại diện cho lợi ích hoặc giá trị của đồ vật đó.\n",
        "\n",
        "Khi bạn nhập giá trị cho mỗi đồ vật, chương trình có thể sử dụng thông tin này để đánh giá \"giá trị\" của một giải pháp, tức là một tập hợp các đồ vật cụ thể. Trong thuật toán Simulated Annealing, quá trình chọn lựa và chấp nhận các giải pháp mới dựa trên sự thay đổi trong giá trị của giải pháp đó."
      ],
      "metadata": {
        "id": "BZPP4J0ZV3rE"
      }
    }
  ]
}